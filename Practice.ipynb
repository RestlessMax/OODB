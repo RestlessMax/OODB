{
 "cells": [
  {
   "cell_type": "markdown",
   "metadata": {},
   "source": [
    "# ZODB (Zope Object Database)"
   ]
  },
  {
   "cell_type": "markdown",
   "metadata": {},
   "source": [
    "ZODB – объектно-ориентированная база данных, предназначенная для хранения Python-объектов. Написана на Python и является кроссплатформерной. Разработана Джимом Фултоном из Zope Corporation в конце 1990-х годов.\n",
    "\n",
    "В ZODB используется прозрачная система хранения Python-объектов. Будучи объектно-ориентированной, она позволяет строить произвольные модели данных для конкретного приложения. Одним из основных достоинств является незаметность работы БД для пользователя - он просто выполняет обращения к объектам, ZODB делает всё остальное самостоятельно. ZODB полностью поддерживает модель ACID, что позволяет поддерживать целостность данных."
   ]
  },
  {
   "cell_type": "markdown",
   "metadata": {},
   "source": [
    "## Преимущества и недостатки"
   ]
  },
  {
   "cell_type": "markdown",
   "metadata": {},
   "source": [
    "### Преимущества:\n",
    "+ Прозрачная структура. Работа с данными идёт через прямое обращение к объектам;\n",
    "+ Масштабируемая архитектура;\n",
    "+ Не требуется никаких дополнительных языков для взаимодействия;\n",
    "+ Использование базы данных практически не отличается от обычного обращения к объектам.\n",
    "\n",
    "В ZODB имеется возможность использовать много разных архитектур хранения информации, подключаемых извне, вот некоторые из них:\n",
    "+ Файловое хранилище для объектов на диске;\n",
    "+ Каталогизированное хранилище. Объекты хранятся на диске, каждый в отдельном файле файловой системы;\n",
    "+ Сетевое хранилище;\n",
    "+ Хранилище RelStorage. Объекты сохраняются в реляционной СУБД;\n",
    "+ Демо-хранилище. Используется для тестирования, доступно только для чтения.\n",
    "\n",
    "### Недостатки:\n",
    "+ Отсутствие встроенных механизмов сложных индексов. В ZODB нет таких мощных механизмов создания индексов, как в реляционных СУБД. Здесь используется перебор словаря для нахождения нужных значений. Это накладывает серьёзные ограничения на реализацию поиска по сложным критериям;\n",
    "+ Отсутствие удобного доступа к данным из приложений реализованных не на Python. В случае реализации какого-либо сложного проекта на базе ZODB, придётся реализовывать API для доступа к данным, хранящимся в ней, для тех программ, которые выполнены не на Python."
   ]
  },
  {
   "cell_type": "markdown",
   "metadata": {},
   "source": [
    "## Применение"
   ]
  },
  {
   "cell_type": "markdown",
   "metadata": {},
   "source": [
    "ZOBD следует использовать в следующих случаях:\n",
    "+ Небольшие приложения\n",
    "\n",
    "ZODB проста в использовании, не требует знания отдельных языков программирования и значительных изменений в коде приложения. ZODB подходит, когда разработка приложения является более важной задачей, чем продумывание взаимодействия с БД. \n",
    "\n",
    "+ Использование сложных взаимосвязей и структур данных\n",
    "\n",
    "ZODB является объектно-ориентированной БД, что позволяет создавать структуры и взаимосвязи любой сложности, используя язык Python. Это значительно проще, чем создавать реляционные БД, где сложная структура будет требовать множества дорогостоящих объединений.\n",
    "\n",
    "+ Доступ к данным через атрибуты и методы\n",
    "\n",
    "ZODB не использует каких-либо специальных языков запросов. Поиск по БД здесь происходит через индексы, основанные на B-деревьях, с использованием высокоуровневого API для поиска. Это решение является приемлемым, если доступ через атрибуты и методы является более приоритетным, чем прямой поиск по базе данных.\n",
    "\n",
    "+ Чтение происходит намного чаще записи\n",
    "\n",
    "ZODB активно использует кэширование. Если рабочий набор помещается в памяти, база данных предоставляет очень высокую производительность, практически не выполняя запросов к серверу."
   ]
  },
  {
   "cell_type": "markdown",
   "metadata": {},
   "source": [
    "## Создание базы данных"
   ]
  },
  {
   "cell_type": "code",
   "execution_count": 1,
   "metadata": {},
   "outputs": [],
   "source": [
    "import ZODB, ZODB.FileStorage\n",
    "\n",
    "storage = ZODB.FileStorage.FileStorage('students_test.fs')\n",
    "db = ZODB.DB(storage)"
   ]
  },
  {
   "cell_type": "markdown",
   "metadata": {},
   "source": [
    "При создании базы данных автоматически создается хранилище."
   ]
  },
  {
   "cell_type": "markdown",
   "metadata": {},
   "source": [
    "## Подключение к базе данных"
   ]
  },
  {
   "cell_type": "code",
   "execution_count": 2,
   "metadata": {},
   "outputs": [],
   "source": [
    "connection = db.open()"
   ]
  },
  {
   "cell_type": "markdown",
   "metadata": {},
   "source": [
    "## Доступ к объектам"
   ]
  },
  {
   "cell_type": "markdown",
   "metadata": {},
   "source": [
    "После соединения можно получить доступ к объектам, проходя по графу объектов из корневого объекта. Корневой объект базы данных-это объект сопоставления, который содержит объекты верхнего уровня в базе данных."
   ]
  },
  {
   "cell_type": "code",
   "execution_count": 3,
   "metadata": {},
   "outputs": [],
   "source": [
    "root = connection.root()"
   ]
  },
  {
   "cell_type": "markdown",
   "metadata": {},
   "source": [
    "## Добавление объектов"
   ]
  },
  {
   "cell_type": "markdown",
   "metadata": {},
   "source": [
    "Примитивный вариант выглядит следующим образом:"
   ]
  },
  {
   "cell_type": "code",
   "execution_count": 4,
   "metadata": {},
   "outputs": [],
   "source": [
    "root['students'] = ['Maxim', 'Alexey', 'Andrey', 'Polina', 'Olga']"
   ]
  },
  {
   "cell_type": "code",
   "execution_count": 5,
   "metadata": {},
   "outputs": [
    {
     "data": {
      "text/plain": [
       "{'students': ['Maxim', 'Alexey', 'Andrey', 'Polina', 'Olga']}"
      ]
     },
     "execution_count": 5,
     "metadata": {},
     "output_type": "execute_result"
    }
   ],
   "source": [
    "root"
   ]
  },
  {
   "cell_type": "markdown",
   "metadata": {},
   "source": [
    "## Сохранение изменений"
   ]
  },
  {
   "cell_type": "markdown",
   "metadata": {},
   "source": [
    "После внесения всех правок требуется все сохранить, чтобы не потерять сделанное:"
   ]
  },
  {
   "cell_type": "code",
   "execution_count": 6,
   "metadata": {},
   "outputs": [],
   "source": [
    "import transaction\n",
    "transaction.commit()"
   ]
  },
  {
   "cell_type": "markdown",
   "metadata": {},
   "source": [
    "и закрыть соединение:"
   ]
  },
  {
   "cell_type": "code",
   "execution_count": 7,
   "metadata": {},
   "outputs": [],
   "source": [
    "connection.close()"
   ]
  },
  {
   "cell_type": "markdown",
   "metadata": {},
   "source": [
    "После перезагрузки:"
   ]
  },
  {
   "cell_type": "code",
   "execution_count": 1,
   "metadata": {},
   "outputs": [
    {
     "data": {
      "text/plain": [
       "{'students': ['Maxim', 'Alexey', 'Andrey', 'Polina', 'Olga']}"
      ]
     },
     "execution_count": 1,
     "metadata": {},
     "output_type": "execute_result"
    }
   ],
   "source": [
    "import ZODB, ZODB.FileStorage\n",
    "\n",
    "storage = ZODB.FileStorage.FileStorage('students_test.fs')\n",
    "db = ZODB.DB(storage)\n",
    "connection = db.open()\n",
    "root = connection.root()\n",
    "root"
   ]
  },
  {
   "cell_type": "markdown",
   "metadata": {},
   "source": [
    "Данный способ плох тем, что в случае, если нужно будет добавить еще студента (с помощью команды append) даже в случае фиксации транзакции изменение не применится, так как ZODB не может самостоятельно обнаружить изменения в изменяемых объектах:"
   ]
  },
  {
   "cell_type": "code",
   "execution_count": 1,
   "metadata": {},
   "outputs": [
    {
     "name": "stdout",
     "output_type": "stream",
     "text": [
      "{'students': ['Maxim', 'Alexey', 'Andrey', 'Polina', 'Olga', 'Kirill']}\n"
     ]
    }
   ],
   "source": [
    "import ZODB, ZODB.FileStorage\n",
    "import transaction\n",
    "\n",
    "storage = ZODB.FileStorage.FileStorage('students_test.fs')\n",
    "db = ZODB.DB(storage)\n",
    "connection = db.open()\n",
    "root = connection.root()\n",
    "\n",
    "root['students'].append('Kirill')\n",
    "print(root)\n",
    "transaction.commit()\n",
    "connection.close()"
   ]
  },
  {
   "cell_type": "code",
   "execution_count": 1,
   "metadata": {},
   "outputs": [
    {
     "data": {
      "text/plain": [
       "{'students': ['Maxim', 'Alexey', 'Andrey', 'Polina', 'Olga']}"
      ]
     },
     "execution_count": 1,
     "metadata": {},
     "output_type": "execute_result"
    }
   ],
   "source": [
    "import ZODB, ZODB.FileStorage\n",
    "\n",
    "storage = ZODB.FileStorage.FileStorage('students_test.fs')\n",
    "db = ZODB.DB(storage)\n",
    "connection = db.open()\n",
    "root = connection.root()\n",
    "root"
   ]
  },
  {
   "cell_type": "markdown",
   "metadata": {},
   "source": [
    "Самый простой и понятный способ создавать изменяемые объекты - создать постоянный класс."
   ]
  },
  {
   "cell_type": "code",
   "execution_count": 1,
   "metadata": {},
   "outputs": [],
   "source": [
    "import persistent\n",
    "import persistent.list\n",
    "\n",
    "class Student(persistent.Persistent):\n",
    "    def __init__(self):\n",
    "        self.debts = persistent.list.PersistentList()\n",
    "    \n",
    "    def setName(self, name):\n",
    "        self.name = name\n",
    "    \n",
    "    # добавить задолженность\n",
    "    def addDebt(self, debt):\n",
    "        self.debts.append(debt)"
   ]
  },
  {
   "cell_type": "markdown",
   "metadata": {},
   "source": [
    "Две основные задачи базового класса (Persistent) -определить , когда к объекту был получен доступ и когда он был изменен. Проблема с некорректным сохранением результатов изменяемых объектов решается с помощью использования постоянных структур данных (PersistentList и PersistentMapping)."
   ]
  },
  {
   "cell_type": "code",
   "execution_count": 3,
   "metadata": {},
   "outputs": [],
   "source": [
    "import transaction\n",
    "students=[]\n",
    "for name in ['Polina', 'Olga']:\n",
    "    student = Student()\n",
    "    student.setName(name)\n",
    "    students.append(student)\n",
    "    \n",
    "for name in ['Maxim', 'Alexey', 'Andrey']:\n",
    "    student = Student()\n",
    "    student.setName(name)\n",
    "    student.addDebt('OODB')\n",
    "    students.append(student)\n",
    "    \n",
    "root['students']=students\n",
    "transaction.commit()\n",
    "connection.close()"
   ]
  },
  {
   "cell_type": "code",
   "execution_count": 2,
   "metadata": {},
   "outputs": [
    {
     "data": {
      "text/plain": [
       "{'students': [<__main__.Student object at 0x0000018A4160B4A8 oid 0x1f in <Connection at 18a4162d048>>, <__main__.Student object at 0x0000018A4160B518 oid 0x20 in <Connection at 18a4162d048>>, <__main__.Student object at 0x0000018A4160B588 oid 0x21 in <Connection at 18a4162d048>>, <__main__.Student object at 0x0000018A4160B5F8 oid 0x22 in <Connection at 18a4162d048>>, <__main__.Student object at 0x0000018A4160B668 oid 0x23 in <Connection at 18a4162d048>>]}"
      ]
     },
     "execution_count": 2,
     "metadata": {},
     "output_type": "execute_result"
    }
   ],
   "source": [
    "import ZODB, ZODB.FileStorage\n",
    "\n",
    "storage = ZODB.FileStorage.FileStorage('students_test.fs')\n",
    "db = ZODB.DB(storage)\n",
    "connection = db.open()\n",
    "root = connection.root()\n",
    "root"
   ]
  },
  {
   "cell_type": "code",
   "execution_count": 3,
   "metadata": {},
   "outputs": [
    {
     "name": "stdout",
     "output_type": "stream",
     "text": [
      "Polina []\n",
      "Olga []\n",
      "Maxim ['OODB']\n",
      "Alexey ['OODB']\n",
      "Andrey ['OODB']\n"
     ]
    }
   ],
   "source": [
    "for student in root['students']:\n",
    "    print(student.name, student.debts)"
   ]
  },
  {
   "cell_type": "markdown",
   "metadata": {},
   "source": [
    "## Пример с добавлением объектов в БД"
   ]
  },
  {
   "cell_type": "code",
   "execution_count": 1,
   "metadata": {},
   "outputs": [],
   "source": [
    "from ZODB import DB\n",
    "from ZODB.FileStorage import FileStorage\n",
    "import persistent\n",
    "import persistent.list\n",
    "import transaction\n",
    "import sys\n",
    "\n",
    "class Student(persistent.Persistent):\n",
    "    def __init__(self):\n",
    "        self.debts = persistent.list.PersistentList()\n",
    "    \n",
    "    def setName(self, name):\n",
    "        self.name = name\n",
    "    \n",
    "    # добавить задолженность\n",
    "    def addDebt(self, debt):\n",
    "        self.debts.append(debt)\n",
    "\n",
    "storage=FileStorage(\"students_test.fs\")\n",
    "db=DB(storage)"
   ]
  },
  {
   "cell_type": "code",
   "execution_count": 2,
   "metadata": {},
   "outputs": [
    {
     "name": "stdout",
     "output_type": "stream",
     "text": [
      "Press 'l' to list students, 'a' to add a student, or 'q' to quit:l\n",
      "Name: Polina\n",
      "Debts: None\n",
      "\n",
      "\n",
      "Name: Olga\n",
      "Debts: None\n",
      "\n",
      "\n",
      "Name: Maxim\n",
      "Debts: ['OODB']\n",
      "\n",
      "\n",
      "Name: Alexey\n",
      "Debts: ['OODB']\n",
      "\n",
      "\n",
      "Name: Andrey\n",
      "Debts: ['OODB']\n",
      "\n",
      "\n",
      "Press 'l' to list students, 'a' to add a student, or 'q' to quit:s\n",
      "Press 'l' to list students, 'a' to add a student, or 'q' to quit:q\n"
     ]
    }
   ],
   "source": [
    "connection=db.open()\n",
    "root=connection.root()\n",
    "\n",
    "if not 'students' in root:\n",
    "    root['students'] = {}\n",
    "students=root['students']\n",
    "\n",
    "\n",
    "def listStudents():\n",
    "    if len(students)==0:\n",
    "        print(\"Students not found.\")\n",
    "        return\n",
    "    for student in students:\n",
    "        print(\"Name:\", student.name)\n",
    "        print(\"Debts:\", 'None' if not student.debts else student.debts)\n",
    "        print(\"\\n\")\n",
    "if __name__==\"__main__\":\n",
    "    while 1:\n",
    "        choice=input(\"Press 'l' to list students, 'a' to add \"\n",
    "                         \"a student, or 'q' to quit:\")\n",
    "        choice=choice.lower()\n",
    "        if choice==\"l\":\n",
    "            listStudents()\n",
    "        elif choice==\"a\":\n",
    "            name=input(\"Employee name:\")\n",
    "            \n",
    "            if name in students:\n",
    "                print(\"There is already an student with this name.\")\n",
    "                return\n",
    "            \n",
    "            student = Student()\n",
    "            student.setName(name)\n",
    "            \n",
    "            while 1:\n",
    "                choice2 = input(\"Press 'd' to add a debt, or 's' to stop:\")\n",
    "                if choice2==\"d\":\n",
    "                    name=input(\"Debt name:\")\n",
    "                    student.addDebt(debt)\n",
    "                elif choice2==\"s\":\n",
    "                    students[name] = student\n",
    "                    root['students'] = students\n",
    "                    transaction.commit()\n",
    "                    print(\"Student %s added.\".format(name))\n",
    "                    break\n",
    "                    \n",
    "        elif choice==\"q\":\n",
    "            break\n",
    "\n",
    "    connection.close()"
   ]
  },
  {
   "cell_type": "markdown",
   "metadata": {},
   "source": [
    "# Ссылки на источники"
   ]
  },
  {
   "cell_type": "markdown",
   "metadata": {},
   "source": [
    "1. http://www.zodb.org\n",
    "2. https://ru.bmstu.wiki/ZODB_(Zope_Object_Database)"
   ]
  }
 ],
 "metadata": {
  "kernelspec": {
   "display_name": "Python 3",
   "language": "python",
   "name": "python3"
  },
  "language_info": {
   "codemirror_mode": {
    "name": "ipython",
    "version": 3
   },
   "file_extension": ".py",
   "mimetype": "text/x-python",
   "name": "python",
   "nbconvert_exporter": "python",
   "pygments_lexer": "ipython3",
   "version": "3.7.1"
  }
 },
 "nbformat": 4,
 "nbformat_minor": 2
}
